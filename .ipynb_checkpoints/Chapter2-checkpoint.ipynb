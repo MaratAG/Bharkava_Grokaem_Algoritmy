{
 "cells": [
  {
   "cell_type": "markdown",
   "metadata": {},
   "source": [
    "МАССИВЫ, СПИСКИ"
   ]
  },
  {
   "cell_type": "markdown",
   "metadata": {},
   "source": [
    "Чтение: Массивы - О(1), Списки - О(n); \n",
    "Вставка: Массивы - О(n), Списки - О(1);\n",
    "Удаление: Массивы - О(n), Списки - О(1)."
   ]
  },
  {
   "cell_type": "markdown",
   "metadata": {},
   "source": [
    "СОРТИРОВКА ВЫБОРОМ"
   ]
  },
  {
   "cell_type": "code",
   "execution_count": 3,
   "metadata": {},
   "outputs": [],
   "source": [
    "def find_smallest(arr):\n",
    "    smallest = arr[0]\n",
    "    smallest_index = 0\n",
    "    for i in range(1, len(arr)):\n",
    "        if arr[i] < smallest:\n",
    "            smallest = arr[i]\n",
    "            smallest_index = i\n",
    "    return smallest_index\n",
    "\n",
    "def selection_sort(arr):\n",
    "    new_arr = []\n",
    "    for i in range(len(arr)):\n",
    "        smallest = find_smallest(arr)\n",
    "        new_arr.append(arr.pop(smallest))\n",
    "    return new_arr"
   ]
  },
  {
   "cell_type": "code",
   "execution_count": 4,
   "metadata": {},
   "outputs": [
    {
     "name": "stdout",
     "output_type": "stream",
     "text": [
      "[35, 61, 88, 94, 111, 141, 156]\n"
     ]
    }
   ],
   "source": [
    "arr = [156, 141, 111, 94, 88, 61, 35]\n",
    "print(selection_sort(arr))"
   ]
  }
 ],
 "metadata": {
  "kernelspec": {
   "display_name": "Python 3",
   "language": "python",
   "name": "python3"
  },
  "language_info": {
   "codemirror_mode": {
    "name": "ipython",
    "version": 3
   },
   "file_extension": ".py",
   "mimetype": "text/x-python",
   "name": "python",
   "nbconvert_exporter": "python",
   "pygments_lexer": "ipython3",
   "version": "3.7.3"
  }
 },
 "nbformat": 4,
 "nbformat_minor": 2
}
