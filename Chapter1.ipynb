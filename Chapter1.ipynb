{
 "cells": [
  {
   "cell_type": "markdown",
   "metadata": {},
   "source": [
    "Бинарный поиск - алгоритм для решения задачи поиска. log(n, 2) - количество шагов, за который выполняется бинарный алгоритм по поиску нужно элемента в списке n элементов. Бинарный список работает только в том случае, если список отсортирован."
   ]
  },
  {
   "cell_type": "code",
   "execution_count": 1,
   "metadata": {},
   "outputs": [],
   "source": [
    "import math"
   ]
  },
  {
   "cell_type": "code",
   "execution_count": 2,
   "metadata": {},
   "outputs": [
    {
     "name": "stdout",
     "output_type": "stream",
     "text": [
      "30\n"
     ]
    }
   ],
   "source": [
    "print(round(math.log(1000000000, 2)))"
   ]
  },
  {
   "cell_type": "code",
   "execution_count": 10,
   "metadata": {},
   "outputs": [],
   "source": [
    "def binary_search(input_list, item):\n",
    "    search_list = input_list[:]\n",
    "    search_list.sort()\n",
    "    \n",
    "    low = 0\n",
    "    high = len(search_list) - 1\n",
    "    \n",
    "    while low <= high:\n",
    "        mid = (low + high) // 2\n",
    "        guess = search_list[mid]\n",
    "        if guess == item:\n",
    "            return mid\n",
    "        elif guess > item:\n",
    "            high = mid - 1\n",
    "        else:\n",
    "            low = mid + 1\n",
    "    \n",
    "    return None"
   ]
  },
  {
   "cell_type": "code",
   "execution_count": 12,
   "metadata": {},
   "outputs": [
    {
     "name": "stdout",
     "output_type": "stream",
     "text": [
      "4\n",
      "None\n"
     ]
    }
   ],
   "source": [
    "my_list = [1, 3, 5, 7, 9]\n",
    "print(binary_search(my_list, 9))\n",
    "print(binary_search(my_list, -1))"
   ]
  },
  {
   "cell_type": "markdown",
   "metadata": {},
   "source": [
    "ВРЕМЯ ВЫПОЛНЕНИЯ"
   ]
  },
  {
   "cell_type": "markdown",
   "metadata": {},
   "source": [
    "Линейный алгоритм поиска выполняется за линейное время O(n). Бинарный алгоритм поиска - за логарифмическое время O(log n). Нотация О описывает скорость работы алгоритма. \n",
    "Виды О:\n",
    "- O(1) - постоянное время;\n",
    "- O(log n) или логарифмическое время. Пример: бинарный поиск;\n",
    "- O(n) или линейное время. Пример: простой поиск;\n",
    "- O(n * log n) - пример: эффективные алгоритмы сортировки (быстрая сортировка).\n",
    "- O(n ** 2) - пример: медленные алгоритмы сортировки (сортировка выбором).\n",
    "- O(n!) - пример: очень медленные алгоритмы (задача о коммивояжере)."
   ]
  },
  {
   "cell_type": "markdown",
   "metadata": {},
   "source": [
    "- Скорость алгоритмов измеряется не в секундах, а в темпе роста количества операций.\n",
    "- По сути формула описывает, насколько быстро возрастает время выполнения алгоритма с увеличением размера входных данных.\n",
    "- Время выполнения алгоритмов выражается как \"О-большое\".\n",
    "- Время выполнения O(log n) быстрее O(n), а с увеличением размера списка, в котором ищется значение, оно становится намного быстрее."
   ]
  }
 ],
 "metadata": {
  "kernelspec": {
   "display_name": "Python 3",
   "language": "python",
   "name": "python3"
  },
  "language_info": {
   "codemirror_mode": {
    "name": "ipython",
    "version": 3
   },
   "file_extension": ".py",
   "mimetype": "text/x-python",
   "name": "python",
   "nbconvert_exporter": "python",
   "pygments_lexer": "ipython3",
   "version": "3.7.3"
  }
 },
 "nbformat": 4,
 "nbformat_minor": 2
}
