{
 "cells": [
  {
   "cell_type": "markdown",
   "metadata": {},
   "source": [
    "АЛГОРИТМ ДЕЙКСТРЫ"
   ]
  },
  {
   "cell_type": "markdown",
   "metadata": {},
   "source": [
    "Поиск в ширину находит путь с минимальным количеством сегментов. А если необходимо найти наиболее быстрый путь, используется алгоритм Дейкстры."
   ]
  },
  {
   "cell_type": "markdown",
   "metadata": {},
   "source": [
    "Алгоритм Дейкстры состоит из четырех шагов:\n",
    "1) Найти узел с наименьшей стоимостью (то есть узел, до которого можно добраться за минимальное время);\n",
    "2) Проверить, существует ли более дешевый путь к соседям этого узла, и если существует, обновить их стоимости;\n",
    "3) Повторять, пока это не будет сделано для всех узлов графа;\n",
    "4) Вычислить итоговый путь."
   ]
  },
  {
   "cell_type": "markdown",
   "metadata": {},
   "source": [
    "ТЕРМИНОЛОГИЯ"
   ]
  },
  {
   "cell_type": "markdown",
   "metadata": {},
   "source": [
    "Граф с весами называется взвешенным графом. Граф без весов называется невзвешенным графом."
   ]
  },
  {
   "cell_type": "markdown",
   "metadata": {},
   "source": [
    "Для вычисления кратчайшего пути в невзвешенном графе используется поиск в ширину. Кратчайшие пути во взвешенном графе вычисляются по алгоритму Дейкстры."
   ]
  },
  {
   "cell_type": "markdown",
   "metadata": {},
   "source": [
    "Алгоритм Дейкстры работает только с направленными ациклическими графами, которые нередко обозначаются сокращением DAG."
   ]
  },
  {
   "cell_type": "code",
   "execution_count": null,
   "metadata": {},
   "outputs": [],
   "source": []
  }
 ],
 "metadata": {
  "kernelspec": {
   "display_name": "Python 3",
   "language": "python",
   "name": "python3"
  },
  "language_info": {
   "codemirror_mode": {
    "name": "ipython",
    "version": 3
   },
   "file_extension": ".py",
   "mimetype": "text/x-python",
   "name": "python",
   "nbconvert_exporter": "python",
   "pygments_lexer": "ipython3",
   "version": "3.7.3"
  }
 },
 "nbformat": 4,
 "nbformat_minor": 2
}
