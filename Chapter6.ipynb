{
 "cells": [
  {
   "cell_type": "markdown",
   "metadata": {},
   "source": [
    "ПОИСК В ШИРИНУ"
   ]
  },
  {
   "cell_type": "markdown",
   "metadata": {},
   "source": [
    "Алгоритм для решения задачи поиска кратчайшего пути называется поиском в ширину."
   ]
  },
  {
   "cell_type": "markdown",
   "metadata": {},
   "source": [
    "ЧТО ТАКОЕ ГРАФ?"
   ]
  },
  {
   "cell_type": "markdown",
   "metadata": {},
   "source": [
    "Граф моделирует набор связей. Каждый граф состоит из узлов и ребер. Узел может быть напрямую соединен с несколькими другими узлами. Эти узлы называются соседями. Графы используются для моделирования связей между разными объектами."
   ]
  },
  {
   "cell_type": "markdown",
   "metadata": {},
   "source": [
    "Поиск в ширину помогает ответить на вопросы двух типов:\n",
    "- существует ли путь от узла А к узлу В?\n",
    "- как выглядит кратчайший путь от узла А к узлу В?"
   ]
  },
  {
   "cell_type": "markdown",
   "metadata": {},
   "source": [
    "РЕАЛИЗАЦИЯ АЛГОРИТМА ПОИСКА В ШИРИНУ"
   ]
  },
  {
   "cell_type": "markdown",
   "metadata": {},
   "source": [
    "1. РЕАЛИЗАЦИЯ ГРАФА"
   ]
  },
  {
   "cell_type": "code",
   "execution_count": 2,
   "metadata": {},
   "outputs": [],
   "source": [
    "def person_is_seller(name):\n",
    "    return name[-1] == 'm'"
   ]
  },
  {
   "cell_type": "code",
   "execution_count": 3,
   "metadata": {},
   "outputs": [],
   "source": [
    "graph = {}\n",
    "graph['you'] = ['alice', 'bob', 'claire']\n",
    "graph['bob'] = ['anuj', 'peggy']\n",
    "graph['alice'] = ['peggy']\n",
    "graph['claire'] = ['thom', 'jonny']\n",
    "graph['anuj'] = []\n",
    "graph['peggy'] = []\n",
    "graph['thom'] = []\n",
    "graph['jonny'] = []\n",
    "\n"
   ]
  },
  {
   "cell_type": "markdown",
   "metadata": {},
   "source": [
    "Все начинается с создания очереди (двусторонняя очередь - дека):"
   ]
  },
  {
   "cell_type": "code",
   "execution_count": 7,
   "metadata": {},
   "outputs": [
    {
     "name": "stdout",
     "output_type": "stream",
     "text": [
      "thom is a mango seller!\n"
     ]
    }
   ],
   "source": [
    "from collections import deque\n",
    "search_queue = deque()\n",
    "search_queue += graph['you']\n",
    "searched = []\n",
    "\n",
    "while search_queue:\n",
    "    person = search_queue.popleft()\n",
    "    if not person in searched:\n",
    "        if person_is_seller(person):\n",
    "            print(person + ' is a mango seller!')\n",
    "        else:\n",
    "            search_queue += graph[person]\n",
    "            searched.append(person)\n"
   ]
  },
  {
   "cell_type": "code",
   "execution_count": null,
   "metadata": {},
   "outputs": [],
   "source": []
  }
 ],
 "metadata": {
  "kernelspec": {
   "display_name": "Python 3",
   "language": "python",
   "name": "python3"
  },
  "language_info": {
   "codemirror_mode": {
    "name": "ipython",
    "version": 3
   },
   "file_extension": ".py",
   "mimetype": "text/x-python",
   "name": "python",
   "nbconvert_exporter": "python",
   "pygments_lexer": "ipython3",
   "version": "3.7.3"
  }
 },
 "nbformat": 4,
 "nbformat_minor": 2
}
